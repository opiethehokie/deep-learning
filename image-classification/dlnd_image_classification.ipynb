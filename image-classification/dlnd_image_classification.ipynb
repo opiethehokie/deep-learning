{
 "cells": [
  {
   "cell_type": "markdown",
   "metadata": {
    "collapsed": true,
    "deletable": true,
    "editable": true
   },
   "source": [
    "# Image Classification\n",
    "In this project, you'll classify images from the [CIFAR-10 dataset](https://www.cs.toronto.edu/~kriz/cifar.html).  The dataset consists of airplanes, dogs, cats, and other objects. You'll preprocess the images, then train a convolutional neural network on all the samples. The images need to be normalized and the labels need to be one-hot encoded.  You'll get to apply what you learned and build a convolutional, max pooling, dropout, and fully connected layers.  At the end, you'll get to see your neural network's predictions on the sample images.\n",
    "## Get the Data\n",
    "Run the following cell to download the [CIFAR-10 dataset for python](https://www.cs.toronto.edu/~kriz/cifar-10-python.tar.gz)."
   ]
  },
  {
   "cell_type": "code",
   "execution_count": 2,
   "metadata": {
    "collapsed": false,
    "deletable": true,
    "editable": true
   },
   "outputs": [
    {
     "name": "stdout",
     "output_type": "stream",
     "text": [
      "All files found!\n"
     ]
    }
   ],
   "source": [
    "\"\"\"\n",
    "DON'T MODIFY ANYTHING IN THIS CELL THAT IS BELOW THIS LINE\n",
    "\"\"\"\n",
    "from urllib.request import urlretrieve\n",
    "from os.path import isfile, isdir\n",
    "from tqdm import tqdm\n",
    "import problem_unittests as tests\n",
    "import tarfile\n",
    "\n",
    "cifar10_dataset_folder_path = 'cifar-10-batches-py'\n",
    "\n",
    "# Use Floyd's cifar-10 dataset if present\n",
    "floyd_cifar10_location = '/input/cifar-10/python.tar.gz'\n",
    "if isfile(floyd_cifar10_location):\n",
    "    tar_gz_path = floyd_cifar10_location\n",
    "else:\n",
    "    tar_gz_path = 'cifar-10-python.tar.gz'\n",
    "\n",
    "class DLProgress(tqdm):\n",
    "    last_block = 0\n",
    "\n",
    "    def hook(self, block_num=1, block_size=1, total_size=None):\n",
    "        self.total = total_size\n",
    "        self.update((block_num - self.last_block) * block_size)\n",
    "        self.last_block = block_num\n",
    "\n",
    "if not isfile(tar_gz_path):\n",
    "    with DLProgress(unit='B', unit_scale=True, miniters=1, desc='CIFAR-10 Dataset') as pbar:\n",
    "        urlretrieve(\n",
    "            'https://www.cs.toronto.edu/~kriz/cifar-10-python.tar.gz',\n",
    "            tar_gz_path,\n",
    "            pbar.hook)\n",
    "\n",
    "if not isdir(cifar10_dataset_folder_path):\n",
    "    with tarfile.open(tar_gz_path) as tar:\n",
    "        tar.extractall()\n",
    "        tar.close()\n",
    "\n",
    "\n",
    "tests.test_folder_path(cifar10_dataset_folder_path)"
   ]
  },
  {
   "cell_type": "markdown",
   "metadata": {
    "deletable": true,
    "editable": true
   },
   "source": [
    "## Explore the Data\n",
    "The dataset is broken into batches to prevent your machine from running out of memory.  The CIFAR-10 dataset consists of 5 batches, named `data_batch_1`, `data_batch_2`, etc.. Each batch contains the labels and images that are one of the following:\n",
    "* airplane\n",
    "* automobile\n",
    "* bird\n",
    "* cat\n",
    "* deer\n",
    "* dog\n",
    "* frog\n",
    "* horse\n",
    "* ship\n",
    "* truck\n",
    "\n",
    "Understanding a dataset is part of making predictions on the data.  Play around with the code cell below by changing the `batch_id` and `sample_id`. The `batch_id` is the id for a batch (1-5). The `sample_id` is the id for a image and label pair in the batch.\n",
    "\n",
    "Ask yourself \"What are all possible labels?\", \"What is the range of values for the image data?\", \"Are the labels in order or random?\".  Answers to questions like these will help you preprocess the data and end up with better predictions."
   ]
  },
  {
   "cell_type": "code",
   "execution_count": 3,
   "metadata": {
    "collapsed": false,
    "deletable": true,
    "editable": true
   },
   "outputs": [
    {
     "name": "stdout",
     "output_type": "stream",
     "text": [
      "\n",
      "Stats of batch 3:\n",
      "Samples: 10000\n",
      "Label Counts: {0: 994, 1: 1042, 2: 965, 3: 997, 4: 990, 5: 1029, 6: 978, 7: 1015, 8: 961, 9: 1029}\n",
      "First 20 Labels: [8, 5, 0, 6, 9, 2, 8, 3, 6, 2, 7, 4, 6, 9, 0, 0, 7, 3, 7, 2]\n",
      "\n",
      "Example of Image 9999:\n",
      "Image - Min Value: 3 Max Value: 242\n",
      "Image - Shape: (32, 32, 3)\n",
      "Label - Label Id: 1 Name: automobile\n"
     ]
    },
    {
     "data": {
      "image/png": "[encoded data removed]",
      "text/plain": [
       "<matplotlib.figure.Figure at 0x7f57b5a7a198>"
      ]
     },
     "metadata": {
      "image/png": {
       "height": 250,
       "width": 253
      }
     },
     "output_type": "display_data"
    }
   ],
   "source": [
    "%matplotlib inline\n",
    "%config InlineBackend.figure_format = 'retina'\n",
    "\n",
    "import helper\n",
    "import numpy as np\n",
    "\n",
    "# Explore the dataset\n",
    "batch_id = 3\n",
    "sample_id = 9999\n",
    "helper.display_stats(cifar10_dataset_folder_path, batch_id, sample_id)"
   ]
  },
  {
   "cell_type": "markdown",
   "metadata": {
    "deletable": true,
    "editable": true
   },
   "source": [
    "## Implement Preprocess Functions\n",
    "### Normalize\n",
    "In the cell below, implement the `normalize` function to take in image data, `x`, and return it as a normalized Numpy array. The values should be in the range of 0 to 1, inclusive.  The return object should be the same shape as `x`."
   ]
  },
  {
   "cell_type": "code",
   "execution_count": 4,
   "metadata": {
    "collapsed": false,
    "deletable": true,
    "editable": true
   },
   "outputs": [
    {
     "name": "stdout",
     "output_type": "stream",
     "text": [
      "Tests Passed\n"
     ]
    }
   ],
   "source": [
    "def normalize(x):\n",
    "    \"\"\"\n",
    "    Normalize a list of sample image data in the range of 0 to 1\n",
    "    : x: List of image data.  The image shape is (32, 32, 3)\n",
    "    : return: Numpy array of normalize data\n",
    "    \"\"\"\n",
    "    # TODO: Implement Function\n",
    "    return x / 255.0\n",
    "\n",
    "\n",
    "\"\"\"\n",
    "DON'T MODIFY ANYTHING IN THIS CELL THAT IS BELOW THIS LINE\n",
    "\"\"\"\n",
    "tests.test_normalize(normalize)"
   ]
  },
  {
   "cell_type": "markdown",
   "metadata": {
    "deletable": true,
    "editable": true
   },
   "source": [
    "### One-hot encode\n",
    "Just like the previous code cell, you'll be implementing a function for preprocessing.  This time, you'll implement the `one_hot_encode` function. The input, `x`, are a list of labels.  Implement the function to return the list of labels as One-Hot encoded Numpy array.  The possible values for labels are 0 to 9. The one-hot encoding function should return the same encoding for each value between each call to `one_hot_encode`.  Make sure to save the map of encodings outside the function.\n",
    "\n",
    "Hint: Don't reinvent the wheel."
   ]
  },
  {
   "cell_type": "code",
   "execution_count": 5,
   "metadata": {
    "collapsed": false,
    "deletable": true,
    "editable": true
   },
   "outputs": [
    {
     "name": "stdout",
     "output_type": "stream",
     "text": [
      "Tests Passed\n"
     ]
    }
   ],
   "source": [
    "from sklearn.preprocessing import LabelBinarizer\n",
    "\n",
    "encoder = LabelBinarizer()\n",
    "\n",
    "def one_hot_encode(x):\n",
    "    \"\"\"\n",
    "    One hot encode a list of sample labels. Return a one-hot encoded vector for each label.\n",
    "    : x: List of sample Labels\n",
    "    : return: Numpy array of one-hot encoded labels\n",
    "    \"\"\"\n",
    "    # TODO: Implement Function\n",
    "    if not hasattr(encoder, 'classes_'):\n",
    "        encoder.fit(x)\n",
    "    return encoder.transform(x)\n",
    "\n",
    "\"\"\"\n",
    "DON'T MODIFY ANYTHING IN THIS CELL THAT IS BELOW THIS LINE\n",
    "\"\"\"\n",
    "tests.test_one_hot_encode(one_hot_encode)"
   ]
  },
  {
   "cell_type": "markdown",
   "metadata": {
    "deletable": true,
    "editable": true
   },
   "source": [
    "### Randomize Data\n",
    "As you saw from exploring the data above, the order of the samples are randomized.  It doesn't hurt to randomize it again, but you don't need to for this dataset."
   ]
  },
  {
   "cell_type": "markdown",
   "metadata": {
    "deletable": true,
    "editable": true
   },
   "source": [
    "## Preprocess all the data and save it\n",
    "Running the code cell below will preprocess all the CIFAR-10 data and save it to file. The code below also uses 10% of the training data for validation."
   ]
  },
  {
   "cell_type": "code",
   "execution_count": 6,
   "metadata": {
    "collapsed": false,
    "deletable": true,
    "editable": true
   },
   "outputs": [],
   "source": [
    "\"\"\"\n",
    "DON'T MODIFY ANYTHING IN THIS CELL\n",
    "\"\"\"\n",
    "# Preprocess Training, Validation, and Testing Data\n",
    "helper.preprocess_and_save_data(cifar10_dataset_folder_path, normalize, one_hot_encode)"
   ]
  },
  {
   "cell_type": "markdown",
   "metadata": {
    "deletable": true,
    "editable": true
   },
   "source": [
    "# Check Point\n",
    "This is your first checkpoint.  If you ever decide to come back to this notebook or have to restart the notebook, you can start from here.  The preprocessed data has been saved to disk."
   ]
  },
  {
   "cell_type": "code",
   "execution_count": 7,
   "metadata": {
    "collapsed": true,
    "deletable": true,
    "editable": true
   },
   "outputs": [],
   "source": [
    "\"\"\"\n",
    "DON'T MODIFY ANYTHING IN THIS CELL\n",
    "\"\"\"\n",
    "import pickle\n",
    "import problem_unittests as tests\n",
    "import helper\n",
    "\n",
    "# Load the Preprocessed Validation data\n",
    "valid_features, valid_labels = pickle.load(open('preprocess_validation.p', mode='rb'))"
   ]
  },
  {
   "cell_type": "markdown",
   "metadata": {
    "deletable": true,
    "editable": true
   },
   "source": [
    "## Build the network\n",
    "For the neural network, you'll build each layer into a function.  Most of the code you've seen has been outside of functions. To test your code more thoroughly, we require that you put each layer in a function.  This allows us to give you better feedback and test for simple mistakes using our unittests before you submit your project.\n",
    "\n",
    ">**Note:** If you're finding it hard to dedicate enough time for this course each week, we've provided a small shortcut to this part of the project. In the next couple of problems, you'll have the option to use classes from the [TensorFlow Layers](https://www.tensorflow.org/api_docs/python/tf/layers) or [TensorFlow Layers (contrib)](https://www.tensorflow.org/api_guides/python/contrib.layers) packages to build each layer, except the layers you build in the \"Convolutional and Max Pooling Layer\" section.  TF Layers is similar to Keras's and TFLearn's abstraction to layers, so it's easy to pickup.\n",
    "\n",
    ">However, if you would like to get the most out of this course, try to solve all the problems _without_ using anything from the TF Layers packages. You **can** still use classes from other packages that happen to have the same name as ones you find in TF Layers! For example, instead of using the TF Layers version of the `conv2d` class, [tf.layers.conv2d](https://www.tensorflow.org/api_docs/python/tf/layers/conv2d), you would want to use the TF Neural Network version of `conv2d`, [tf.nn.conv2d](https://www.tensorflow.org/api_docs/python/tf/nn/conv2d). \n",
    "\n",
    "Let's begin!\n",
    "\n",
    "### Input\n",
    "The neural network needs to read the image data, one-hot encoded labels, and dropout keep probability. Implement the following functions\n",
    "* Implement `neural_net_image_input`\n",
    " * Return a [TF Placeholder](https://www.tensorflow.org/api_docs/python/tf/placeholder)\n",
    " * Set the shape using `image_shape` with batch size set to `None`.\n",
    " * Name the TensorFlow placeholder \"x\" using the TensorFlow `name` parameter in the [TF Placeholder](https://www.tensorflow.org/api_docs/python/tf/placeholder).\n",
    "* Implement `neural_net_label_input`\n",
    " * Return a [TF Placeholder](https://www.tensorflow.org/api_docs/python/tf/placeholder)\n",
    " * Set the shape using `n_classes` with batch size set to `None`.\n",
    " * Name the TensorFlow placeholder \"y\" using the TensorFlow `name` parameter in the [TF Placeholder](https://www.tensorflow.org/api_docs/python/tf/placeholder).\n",
    "* Implement `neural_net_keep_prob_input`\n",
    " * Return a [TF Placeholder](https://www.tensorflow.org/api_docs/python/tf/placeholder) for dropout keep probability.\n",
    " * Name the TensorFlow placeholder \"keep_prob\" using the TensorFlow `name` parameter in the [TF Placeholder](https://www.tensorflow.org/api_docs/python/tf/placeholder).\n",
    "\n",
    "These names will be used at the end of the project to load your saved model.\n",
    "\n",
    "Note: `None` for shapes in TensorFlow allow for a dynamic size."
   ]
  },
  {
   "cell_type": "code",
   "execution_count": 8,
   "metadata": {
    "collapsed": false,
    "deletable": true,
    "editable": true
   },
   "outputs": [
    {
     "name": "stdout",
     "output_type": "stream",
     "text": [
      "Image Input Tests Passed.\n",
      "Label Input Tests Passed.\n",
      "Keep Prob Tests Passed.\n"
     ]
    }
   ],
   "source": [
    "import tensorflow as tf\n",
    "\n",
    "def neural_net_image_input(image_shape):\n",
    "    \"\"\"\n",
    "    Return a Tensor for a batch of image input\n",
    "    : image_shape: Shape of the images\n",
    "    : return: Tensor for image input.\n",
    "    \"\"\"\n",
    "    # TODO: Implement Function\n",
    "    return tf.placeholder(tf.float32, shape=[None, image_shape[0], image_shape[1], image_shape[2]], name='x')\n",
    "\n",
    "\n",
    "def neural_net_label_input(n_classes):\n",
    "    \"\"\"\n",
    "    Return a Tensor for a batch of label input\n",
    "    : n_classes: Number of classes\n",
    "    : return: Tensor for label input.\n",
    "    \"\"\"\n",
    "    # TODO: Implement Function\n",
    "    return tf.placeholder(tf.float32, shape=[None, n_classes], name='y')\n",
    "\n",
    "\n",
    "def neural_net_keep_prob_input():\n",
    "    \"\"\"\n",
    "    Return a Tensor for keep probability\n",
    "    : return: Tensor for keep probability.\n",
    "    \"\"\"\n",
    "    # TODO: Implement Function\n",
    "    return tf.placeholder(tf.float32, name='keep_prob')\n",
    "\n",
    "\n",
    "\"\"\"\n",
    "DON'T MODIFY ANYTHING IN THIS CELL THAT IS BELOW THIS LINE\n",
    "\"\"\"\n",
    "tf.reset_default_graph()\n",
    "tests.test_nn_image_inputs(neural_net_image_input)\n",
    "tests.test_nn_label_inputs(neural_net_label_input)\n",
    "tests.test_nn_keep_prob_inputs(neural_net_keep_prob_input)"
   ]
  },
  {
   "cell_type": "markdown",
   "metadata": {
    "deletable": true,
    "editable": true
   },
   "source": [
    "### Convolution and Max Pooling Layer\n",
    "Convolution layers have a lot of success with images. For this code cell, you should implement the function `conv2d_maxpool` to apply convolution then max pooling:\n",
    "* Create the weight and bias using `conv_ksize`, `conv_num_outputs` and the shape of `x_tensor`.\n",
    "* Apply a convolution to `x_tensor` using weight and `conv_strides`.\n",
    " * We recommend you use same padding, but you're welcome to use any padding.\n",
    "* Add bias\n",
    "* Add a nonlinear activation to the convolution.\n",
    "* Apply Max Pooling using `pool_ksize` and `pool_strides`.\n",
    " * We recommend you use same padding, but you're welcome to use any padding.\n",
    "\n",
    "**Note:** You **can't** use [TensorFlow Layers](https://www.tensorflow.org/api_docs/python/tf/layers) or [TensorFlow Layers (contrib)](https://www.tensorflow.org/api_guides/python/contrib.layers) for **this** layer, but you can still use TensorFlow's [Neural Network](https://www.tensorflow.org/api_docs/python/tf/nn) package. You may still use the shortcut option for all the **other** layers."
   ]
  },
  {
   "cell_type": "code",
   "execution_count": 9,
   "metadata": {
    "collapsed": false,
    "deletable": true,
    "editable": true
   },
   "outputs": [
    {
     "name": "stdout",
     "output_type": "stream",
     "text": [
      "Tests Passed\n"
     ]
    }
   ],
   "source": [
    "def conv2d_maxpool(x_tensor, conv_num_outputs, conv_ksize, conv_strides, pool_ksize, pool_strides):\n",
    "    \"\"\"\n",
    "    Apply convolution then max pooling to x_tensor\n",
    "    :param x_tensor: TensorFlow Tensor\n",
    "    :param conv_num_outputs: Number of outputs for the convolutional layer\n",
    "    :param conv_ksize: kernal size 2-D Tuple for the convolutional layer\n",
    "    :param conv_strides: Stride 2-D Tuple for convolution\n",
    "    :param pool_ksize: kernal size 2-D Tuple for pool\n",
    "    :param pool_strides: Stride 2-D Tuple for pool\n",
    "    : return: A tensor that represents convolution and max pooling of x_tensor\n",
    "    \"\"\"\n",
    "    # TODO: Implement Function\n",
    "    weight = tf.Variable(tf.truncated_normal([conv_ksize[0], conv_ksize[1], \n",
    "                                              x_tensor.get_shape()[3].value, conv_num_outputs]))\n",
    "    bias = tf.Variable(tf.truncated_normal([conv_num_outputs]))\n",
    "    x_tensor = tf.nn.conv2d(x_tensor, weight, strides=[1, conv_strides[0], conv_strides[1], 1], padding='SAME')\n",
    "    x_tensor = tf.nn.bias_add(x_tensor, bias)\n",
    "    x_tensor = tf.nn.relu(x_tensor)\n",
    "    x_tensor = tf.nn.max_pool(x_tensor, ksize=[1, pool_ksize[0], pool_ksize[1], 1], \n",
    "                              strides=[1, pool_strides[0], pool_strides[1], 1], padding='SAME')\n",
    "    return x_tensor\n",
    "\n",
    "\n",
    "\"\"\"\n",
    "DON'T MODIFY ANYTHING IN THIS CELL THAT IS BELOW THIS LINE\n",
    "\"\"\"\n",
    "tests.test_con_pool(conv2d_maxpool)"
   ]
  },
  {
   "cell_type": "markdown",
   "metadata": {
    "deletable": true,
    "editable": true
   },
   "source": [
    "### Flatten Layer\n",
    "Implement the `flatten` function to change the dimension of `x_tensor` from a 4-D tensor to a 2-D tensor.  The output should be the shape (*Batch Size*, *Flattened Image Size*). Shortcut option: you can use classes from the [TensorFlow Layers](https://www.tensorflow.org/api_docs/python/tf/layers) or [TensorFlow Layers (contrib)](https://www.tensorflow.org/api_guides/python/contrib.layers) packages for this layer. For more of a challenge, only use other TensorFlow packages."
   ]
  },
  {
   "cell_type": "code",
   "execution_count": 10,
   "metadata": {
    "collapsed": false,
    "deletable": true,
    "editable": true
   },
   "outputs": [
    {
     "name": "stdout",
     "output_type": "stream",
     "text": [
      "Tests Passed\n"
     ]
    }
   ],
   "source": [
    "def flatten(x_tensor):\n",
    "    \"\"\"\n",
    "    Flatten x_tensor to (Batch Size, Flattened Image Size)\n",
    "    : x_tensor: A tensor of size (Batch Size, ...), where ... are the image dimensions.\n",
    "    : return: A tensor of size (Batch Size, Flattened Image Size).\n",
    "    \"\"\"\n",
    "    # TODO: Implement Function\n",
    "    #shape = x_tensor.get_shape()\n",
    "    #return tf.reshape(x_tensor, [-1, shape[1].value * shape[2].value * shape[3].value])\n",
    "    return tf.contrib.layers.flatten(x_tensor)\n",
    "\n",
    "\n",
    "\"\"\"\n",
    "DON'T MODIFY ANYTHING IN THIS CELL THAT IS BELOW THIS LINE\n",
    "\"\"\"\n",
    "tests.test_flatten(flatten)"
   ]
  },
  {
   "cell_type": "markdown",
   "metadata": {
    "deletable": true,
    "editable": true
   },
   "source": [
    "### Fully-Connected Layer\n",
    "Implement the `fully_conn` function to apply a fully connected layer to `x_tensor` with the shape (*Batch Size*, *num_outputs*). Shortcut option: you can use classes from the [TensorFlow Layers](https://www.tensorflow.org/api_docs/python/tf/layers) or [TensorFlow Layers (contrib)](https://www.tensorflow.org/api_guides/python/contrib.layers) packages for this layer. For more of a challenge, only use other TensorFlow packages."
   ]
  },
  {
   "cell_type": "code",
   "execution_count": 11,
   "metadata": {
    "collapsed": false,
    "deletable": true,
    "editable": true
   },
   "outputs": [
    {
     "name": "stdout",
     "output_type": "stream",
     "text": [
      "Tests Passed\n"
     ]
    }
   ],
   "source": [
    "def fully_conn(x_tensor, num_outputs):\n",
    "    \"\"\"\n",
    "    Apply a fully connected layer to x_tensor using weight and bias\n",
    "    : x_tensor: A 2-D tensor where the first dimension is batch size.\n",
    "    : num_outputs: The number of output that the new tensor should be.\n",
    "    : return: A 2-D tensor where the second dimension is num_outputs.\n",
    "    \"\"\"\n",
    "    # TODO: Implement Function\n",
    "    #weights = tf.Variable(tf.truncated_normal([x_tensor.get_shape()[1].value, num_outputs]))\n",
    "    #bias = tf.Variable(tf.zeros(num_outputs))\n",
    "    #x_tensor = tf.nn.bias_add(tf.matmul(x_tensor, weights), bias)\n",
    "    #return tf.nn.relu(x_tensor)\n",
    "    return tf.contrib.layers.fully_connected(x_tensor, num_outputs, activation_fn=tf.nn.relu)\n",
    "\n",
    "\n",
    "\"\"\"\n",
    "DON'T MODIFY ANYTHING IN THIS CELL THAT IS BELOW THIS LINE\n",
    "\"\"\"\n",
    "tests.test_fully_conn(fully_conn)"
   ]
  },
  {
   "cell_type": "markdown",
   "metadata": {
    "deletable": true,
    "editable": true
   },
   "source": [
    "### Output Layer\n",
    "Implement the `output` function to apply a fully connected layer to `x_tensor` with the shape (*Batch Size*, *num_outputs*). Shortcut option: you can use classes from the [TensorFlow Layers](https://www.tensorflow.org/api_docs/python/tf/layers) or [TensorFlow Layers (contrib)](https://www.tensorflow.org/api_guides/python/contrib.layers) packages for this layer. For more of a challenge, only use other TensorFlow packages.\n",
    "\n",
    "**Note:** Activation, softmax, or cross entropy should **not** be applied to this."
   ]
  },
  {
   "cell_type": "code",
   "execution_count": 12,
   "metadata": {
    "collapsed": false,
    "deletable": true,
    "editable": true
   },
   "outputs": [
    {
     "name": "stdout",
     "output_type": "stream",
     "text": [
      "Tests Passed\n"
     ]
    }
   ],
   "source": [
    "def output(x_tensor, num_outputs):\n",
    "    \"\"\"\n",
    "    Apply a output layer to x_tensor using weight and bias\n",
    "    : x_tensor: A 2-D tensor where the first dimension is batch size.\n",
    "    : num_outputs: The number of output that the new tensor should be.\n",
    "    : return: A 2-D tensor where the second dimension is num_outputs.\n",
    "    \"\"\"\n",
    "    #weights = tf.Variable(tf.truncated_normal([x_tensor.get_shape()[1].value, num_outputs]))\n",
    "    #bias = tf.Variable(tf.zeros(num_outputs))\n",
    "    #return tf.nn.bias_add(tf.matmul(x_tensor, weights), bias)\n",
    "    return tf.contrib.layers.fully_connected(x_tensor, num_outputs, activation_fn=None)\n",
    "\n",
    "\n",
    "\"\"\"\n",
    "DON'T MODIFY ANYTHING IN THIS CELL THAT IS BELOW THIS LINE\n",
    "\"\"\"\n",
    "tests.test_output(output)"
   ]
  },
  {
   "cell_type": "markdown",
   "metadata": {
    "deletable": true,
    "editable": true
   },
   "source": [
    "### Create Convolutional Model\n",
    "Implement the function `conv_net` to create a convolutional neural network model. The function takes in a batch of images, `x`, and outputs logits.  Use the layers you created above to create this model:\n",
    "\n",
    "* Apply 1, 2, or 3 Convolution and Max Pool layers\n",
    "* Apply a Flatten Layer\n",
    "* Apply 1, 2, or 3 Fully Connected Layers\n",
    "* Apply an Output Layer\n",
    "* Return the output\n",
    "* Apply [TensorFlow's Dropout](https://www.tensorflow.org/api_docs/python/tf/nn/dropout) to one or more layers in the model using `keep_prob`. "
   ]
  },
  {
   "cell_type": "code",
   "execution_count": 13,
   "metadata": {
    "collapsed": false,
    "deletable": true,
    "editable": true
   },
   "outputs": [
    {
     "name": "stdout",
     "output_type": "stream",
     "text": [
      "Neural Network Built!\n"
     ]
    }
   ],
   "source": [
    "def conv_net(x, keep_prob):\n",
    "    \"\"\"\n",
    "    Create a convolutional neural network model\n",
    "    : x: Placeholder tensor that holds image data.\n",
    "    : keep_prob: Placeholder tensor that hold dropout keep probability.\n",
    "    : return: Tensor that represents logits\n",
    "    \"\"\"\n",
    "    # TODO: Apply 1, 2, or 3 Convolution and Max Pool layers\n",
    "    #    Play around with different number of outputs, kernel size and stride\n",
    "    # Function Definition from Above:\n",
    "    #    conv2d_maxpool(x_tensor, conv_num_outputs, conv_ksize, conv_strides, pool_ksize, pool_strides)\n",
    "    x = conv2d_maxpool(x, 16, (4, 4), (1, 1), (2, 2), (2, 2))\n",
    "    x = conv2d_maxpool(x, 32, (2, 2), (2, 2), (2, 2), (2, 2))\n",
    "\n",
    "    # TODO: Apply a Flatten Layer\n",
    "    # Function Definition from Above:\n",
    "    #   flatten(x_tensor)\n",
    "    x = flatten(x)\n",
    "\n",
    "    # TODO: Apply 1, 2, or 3 Fully Connected Layers\n",
    "    #    Play around with different number of outputs\n",
    "    # Function Definition from Above:\n",
    "    #   fully_conn(x_tensor, num_outputs)\n",
    "    x = fully_conn(x, 256)\n",
    "    x = tf.nn.dropout(x, keep_prob)\n",
    "    x = fully_conn(x, 128)\n",
    "    x = tf.nn.dropout(x, keep_prob)\n",
    "    \n",
    "    # TODO: Apply an Output Layer\n",
    "    #    Set this to the number of classes\n",
    "    # Function Definition from Above:\n",
    "    #   output(x_tensor, num_outputs)\n",
    "    x = output(x, 10)\n",
    "    \n",
    "    # TODO: return output\n",
    "    return x\n",
    "\n",
    "\n",
    "\"\"\"\n",
    "DON'T MODIFY ANYTHING IN THIS CELL THAT IS BELOW THIS LINE\n",
    "\"\"\"\n",
    "\n",
    "##############################\n",
    "## Build the Neural Network ##\n",
    "##############################\n",
    "\n",
    "# Remove previous weights, bias, inputs, etc..\n",
    "tf.reset_default_graph()\n",
    "\n",
    "# Inputs\n",
    "x = neural_net_image_input((32, 32, 3))\n",
    "y = neural_net_label_input(10)\n",
    "keep_prob = neural_net_keep_prob_input()\n",
    "\n",
    "# Model\n",
    "logits = conv_net(x, keep_prob)\n",
    "\n",
    "# Name logits Tensor, so that is can be loaded from disk after training\n",
    "logits = tf.identity(logits, name='logits')\n",
    "\n",
    "# Loss and Optimizer\n",
    "cost = tf.reduce_mean(tf.nn.softmax_cross_entropy_with_logits(logits=logits, labels=y))\n",
    "optimizer = tf.train.AdamOptimizer().minimize(cost)\n",
    "\n",
    "# Accuracy\n",
    "correct_pred = tf.equal(tf.argmax(logits, 1), tf.argmax(y, 1))\n",
    "accuracy = tf.reduce_mean(tf.cast(correct_pred, tf.float32), name='accuracy')\n",
    "\n",
    "tests.test_conv_net(conv_net)"
   ]
  },
  {
   "cell_type": "markdown",
   "metadata": {
    "deletable": true,
    "editable": true
   },
   "source": [
    "## Train the Neural Network\n",
    "### Single Optimization\n",
    "Implement the function `train_neural_network` to do a single optimization.  The optimization should use `optimizer` to optimize in `session` with a `feed_dict` of the following:\n",
    "* `x` for image input\n",
    "* `y` for labels\n",
    "* `keep_prob` for keep probability for dropout\n",
    "\n",
    "This function will be called for each batch, so `tf.global_variables_initializer()` has already been called.\n",
    "\n",
    "Note: Nothing needs to be returned. This function is only optimizing the neural network."
   ]
  },
  {
   "cell_type": "code",
   "execution_count": 14,
   "metadata": {
    "collapsed": false,
    "deletable": true,
    "editable": true
   },
   "outputs": [
    {
     "name": "stdout",
     "output_type": "stream",
     "text": [
      "Tests Passed\n"
     ]
    }
   ],
   "source": [
    "def train_neural_network(session, optimizer, keep_probability, feature_batch, label_batch):\n",
    "    \"\"\"\n",
    "    Optimize the session on a batch of images and labels\n",
    "    : session: Current TensorFlow session\n",
    "    : optimizer: TensorFlow optimizer function\n",
    "    : keep_probability: keep probability\n",
    "    : feature_batch: Batch of Numpy image data\n",
    "    : label_batch: Batch of Numpy label data\n",
    "    \"\"\"\n",
    "    # TODO: Implement Function\n",
    "    session.run(optimizer, feed_dict={\n",
    "        x: feature_batch,\n",
    "        y: label_batch,\n",
    "        keep_prob: keep_probability})\n",
    "\n",
    "\n",
    "\"\"\"\n",
    "DON'T MODIFY ANYTHING IN THIS CELL THAT IS BELOW THIS LINE\n",
    "\"\"\"\n",
    "tests.test_train_nn(train_neural_network)"
   ]
  },
  {
   "cell_type": "markdown",
   "metadata": {
    "deletable": true,
    "editable": true
   },
   "source": [
    "### Show Stats\n",
    "Implement the function `print_stats` to print loss and validation accuracy.  Use the global variables `valid_features` and `valid_labels` to calculate validation accuracy.  Use a keep probability of `1.0` to calculate the loss and validation accuracy."
   ]
  },
  {
   "cell_type": "code",
   "execution_count": 15,
   "metadata": {
    "collapsed": false,
    "deletable": true,
    "editable": true
   },
   "outputs": [],
   "source": [
    "def print_stats(session, feature_batch, label_batch, cost, accuracy):\n",
    "    \"\"\"\n",
    "    Print information about loss and validation accuracy\n",
    "    : session: Current TensorFlow session\n",
    "    : feature_batch: Batch of Numpy image data\n",
    "    : label_batch: Batch of Numpy label data\n",
    "    : cost: TensorFlow cost function\n",
    "    : accuracy: TensorFlow accuracy function\n",
    "    \"\"\"\n",
    "    # TODO: Implement Function\n",
    "    loss = session.run(cost, feed_dict={\n",
    "        x: feature_batch,\n",
    "        y: label_batch,\n",
    "        keep_prob: 1.})\n",
    "    val_accuracy = sess.run(accuracy, feed_dict={\n",
    "        x: valid_features,\n",
    "        y: valid_labels,\n",
    "        keep_prob: 1.})\n",
    "    print('Loss: {:>10.4f} Validation Accuracy: {:.6f}'.format(loss, val_accuracy))"
   ]
  },
  {
   "cell_type": "markdown",
   "metadata": {
    "deletable": true,
    "editable": true
   },
   "source": [
    "### Hyperparameters\n",
    "Tune the following parameters:\n",
    "* Set `epochs` to the number of iterations until the network stops learning or start overfitting\n",
    "* Set `batch_size` to the highest number that your machine has memory for.  Most people set them to common sizes of memory:\n",
    " * 64\n",
    " * 128\n",
    " * 256\n",
    " * ...\n",
    "* Set `keep_probability` to the probability of keeping a node using dropout"
   ]
  },
  {
   "cell_type": "code",
   "execution_count": 16,
   "metadata": {
    "collapsed": true,
    "deletable": true,
    "editable": true
   },
   "outputs": [],
   "source": [
    "# TODO: Tune Parameters\n",
    "epochs = 50\n",
    "batch_size = 256\n",
    "keep_probability = .75"
   ]
  },
  {
   "cell_type": "markdown",
   "metadata": {
    "deletable": true,
    "editable": true
   },
   "source": [
    "### Train on a Single CIFAR-10 Batch\n",
    "Instead of training the neural network on all the CIFAR-10 batches of data, let's use a single batch. This should save time while you iterate on the model to get a better accuracy.  Once the final validation accuracy is 50% or greater, run the model on all the data in the next section."
   ]
  },
  {
   "cell_type": "code",
   "execution_count": 17,
   "metadata": {
    "collapsed": false,
    "deletable": true,
    "editable": true
   },
   "outputs": [
    {
     "name": "stdout",
     "output_type": "stream",
     "text": [
      "Checking the Training on a Single Batch...\n",
      "Epoch  1, CIFAR-10 Batch 1:  Loss:     2.2562 Validation Accuracy: 0.158200\n",
      "Epoch  2, CIFAR-10 Batch 1:  Loss:     2.1958 Validation Accuracy: 0.218600\n",
      "Epoch  3, CIFAR-10 Batch 1:  Loss:     2.0449 Validation Accuracy: 0.274800\n",
      "Epoch  4, CIFAR-10 Batch 1:  Loss:     1.9557 Validation Accuracy: 0.290800\n",
      "Epoch  5, CIFAR-10 Batch 1:  Loss:     1.8302 Validation Accuracy: 0.346200\n",
      "Epoch  6, CIFAR-10 Batch 1:  Loss:     1.7753 Validation Accuracy: 0.363200\n",
      "Epoch  7, CIFAR-10 Batch 1:  Loss:     1.5818 Validation Accuracy: 0.373400\n",
      "Epoch  8, CIFAR-10 Batch 1:  Loss:     1.5996 Validation Accuracy: 0.374800\n",
      "Epoch  9, CIFAR-10 Batch 1:  Loss:     1.4379 Validation Accuracy: 0.389000\n",
      "Epoch 10, CIFAR-10 Batch 1:  Loss:     1.3810 Validation Accuracy: 0.400000\n",
      "Epoch 11, CIFAR-10 Batch 1:  Loss:     1.3585 Validation Accuracy: 0.413000\n",
      "Epoch 12, CIFAR-10 Batch 1:  Loss:     1.2454 Validation Accuracy: 0.434200\n",
      "Epoch 13, CIFAR-10 Batch 1:  Loss:     1.2081 Validation Accuracy: 0.438600\n",
      "Epoch 14, CIFAR-10 Batch 1:  Loss:     1.1041 Validation Accuracy: 0.440800\n",
      "Epoch 15, CIFAR-10 Batch 1:  Loss:     1.0984 Validation Accuracy: 0.451000\n",
      "Epoch 16, CIFAR-10 Batch 1:  Loss:     0.9999 Validation Accuracy: 0.458000\n",
      "Epoch 17, CIFAR-10 Batch 1:  Loss:     0.9648 Validation Accuracy: 0.456600\n",
      "Epoch 18, CIFAR-10 Batch 1:  Loss:     0.9147 Validation Accuracy: 0.465600\n",
      "Epoch 19, CIFAR-10 Batch 1:  Loss:     0.8903 Validation Accuracy: 0.465400\n",
      "Epoch 20, CIFAR-10 Batch 1:  Loss:     0.8508 Validation Accuracy: 0.464200\n",
      "Epoch 21, CIFAR-10 Batch 1:  Loss:     0.7744 Validation Accuracy: 0.478600\n",
      "Epoch 22, CIFAR-10 Batch 1:  Loss:     0.7601 Validation Accuracy: 0.470600\n",
      "Epoch 23, CIFAR-10 Batch 1:  Loss:     0.7174 Validation Accuracy: 0.482200\n",
      "Epoch 24, CIFAR-10 Batch 1:  Loss:     0.6513 Validation Accuracy: 0.478600\n",
      "Epoch 25, CIFAR-10 Batch 1:  Loss:     0.6190 Validation Accuracy: 0.476200\n",
      "Epoch 26, CIFAR-10 Batch 1:  Loss:     0.5993 Validation Accuracy: 0.482000\n",
      "Epoch 27, CIFAR-10 Batch 1:  Loss:     0.5875 Validation Accuracy: 0.484000\n",
      "Epoch 28, CIFAR-10 Batch 1:  Loss:     0.5430 Validation Accuracy: 0.490000\n",
      "Epoch 29, CIFAR-10 Batch 1:  Loss:     0.5176 Validation Accuracy: 0.493000\n",
      "Epoch 30, CIFAR-10 Batch 1:  Loss:     0.5212 Validation Accuracy: 0.491200\n",
      "Epoch 31, CIFAR-10 Batch 1:  Loss:     0.4662 Validation Accuracy: 0.487000\n",
      "Epoch 32, CIFAR-10 Batch 1:  Loss:     0.4473 Validation Accuracy: 0.489000\n",
      "Epoch 33, CIFAR-10 Batch 1:  Loss:     0.4020 Validation Accuracy: 0.489800\n",
      "Epoch 34, CIFAR-10 Batch 1:  Loss:     0.4140 Validation Accuracy: 0.483600\n",
      "Epoch 35, CIFAR-10 Batch 1:  Loss:     0.4230 Validation Accuracy: 0.502400\n",
      "Epoch 36, CIFAR-10 Batch 1:  Loss:     0.3622 Validation Accuracy: 0.493200\n",
      "Epoch 37, CIFAR-10 Batch 1:  Loss:     0.3928 Validation Accuracy: 0.492600\n",
      "Epoch 38, CIFAR-10 Batch 1:  Loss:     0.3623 Validation Accuracy: 0.496800\n",
      "Epoch 39, CIFAR-10 Batch 1:  Loss:     0.3607 Validation Accuracy: 0.486200\n",
      "Epoch 40, CIFAR-10 Batch 1:  Loss:     0.2926 Validation Accuracy: 0.496400\n",
      "Epoch 41, CIFAR-10 Batch 1:  Loss:     0.3074 Validation Accuracy: 0.491800\n",
      "Epoch 42, CIFAR-10 Batch 1:  Loss:     0.2722 Validation Accuracy: 0.490200\n",
      "Epoch 43, CIFAR-10 Batch 1:  Loss:     0.2636 Validation Accuracy: 0.488200\n",
      "Epoch 44, CIFAR-10 Batch 1:  Loss:     0.2715 Validation Accuracy: 0.497000\n",
      "Epoch 45, CIFAR-10 Batch 1:  Loss:     0.2738 Validation Accuracy: 0.497000\n",
      "Epoch 46, CIFAR-10 Batch 1:  Loss:     0.2512 Validation Accuracy: 0.490000\n",
      "Epoch 47, CIFAR-10 Batch 1:  Loss:     0.2273 Validation Accuracy: 0.501800\n",
      "Epoch 48, CIFAR-10 Batch 1:  Loss:     0.2238 Validation Accuracy: 0.489000\n",
      "Epoch 49, CIFAR-10 Batch 1:  Loss:     0.2141 Validation Accuracy: 0.497600\n",
      "Epoch 50, CIFAR-10 Batch 1:  Loss:     0.1982 Validation Accuracy: 0.497000\n"
     ]
    }
   ],
   "source": [
    "\"\"\"\n",
    "DON'T MODIFY ANYTHING IN THIS CELL\n",
    "\"\"\"\n",
    "print('Checking the Training on a Single Batch...')\n",
    "with tf.Session() as sess:\n",
    "    # Initializing the variables\n",
    "    sess.run(tf.global_variables_initializer())\n",
    "    \n",
    "    # Training cycle\n",
    "    for epoch in range(epochs):\n",
    "        batch_i = 1\n",
    "        for batch_features, batch_labels in helper.load_preprocess_training_batch(batch_i, batch_size):\n",
    "            train_neural_network(sess, optimizer, keep_probability, batch_features, batch_labels)\n",
    "        print('Epoch {:>2}, CIFAR-10 Batch {}:  '.format(epoch + 1, batch_i), end='')\n",
    "        print_stats(sess, batch_features, batch_labels, cost, accuracy)"
   ]
  },
  {
   "cell_type": "markdown",
   "metadata": {
    "deletable": true,
    "editable": true
   },
   "source": [
    "### Fully Train the Model\n",
    "Now that you got a good accuracy with a single CIFAR-10 batch, try it with all five batches."
   ]
  },
  {
   "cell_type": "code",
   "execution_count": 18,
   "metadata": {
    "collapsed": false,
    "deletable": true,
    "editable": true
   },
   "outputs": [
    {
     "name": "stdout",
     "output_type": "stream",
     "text": [
      "Training...\n",
      "Epoch  1, CIFAR-10 Batch 1:  Loss:     2.2958 Validation Accuracy: 0.154200\n",
      "Epoch  1, CIFAR-10 Batch 2:  Loss:     2.3002 Validation Accuracy: 0.182400\n",
      "Epoch  1, CIFAR-10 Batch 3:  Loss:     2.0638 Validation Accuracy: 0.217000\n",
      "Epoch  1, CIFAR-10 Batch 4:  Loss:     1.9304 Validation Accuracy: 0.220000\n",
      "Epoch  1, CIFAR-10 Batch 5:  Loss:     2.1026 Validation Accuracy: 0.243600\n",
      "Epoch  2, CIFAR-10 Batch 1:  Loss:     2.1271 Validation Accuracy: 0.247400\n",
      "Epoch  2, CIFAR-10 Batch 2:  Loss:     2.0267 Validation Accuracy: 0.275800\n",
      "Epoch  2, CIFAR-10 Batch 3:  Loss:     1.8812 Validation Accuracy: 0.280400\n",
      "Epoch  2, CIFAR-10 Batch 4:  Loss:     1.7027 Validation Accuracy: 0.314800\n",
      "Epoch  2, CIFAR-10 Batch 5:  Loss:     1.8412 Validation Accuracy: 0.329000\n",
      "Epoch  3, CIFAR-10 Batch 1:  Loss:     1.9711 Validation Accuracy: 0.323600\n",
      "Epoch  3, CIFAR-10 Batch 2:  Loss:     1.8243 Validation Accuracy: 0.341000\n",
      "Epoch  3, CIFAR-10 Batch 3:  Loss:     1.6848 Validation Accuracy: 0.341000\n",
      "Epoch  3, CIFAR-10 Batch 4:  Loss:     1.6204 Validation Accuracy: 0.350200\n",
      "Epoch  3, CIFAR-10 Batch 5:  Loss:     1.7685 Validation Accuracy: 0.352200\n",
      "Epoch  4, CIFAR-10 Batch 1:  Loss:     1.8352 Validation Accuracy: 0.361400\n",
      "Epoch  4, CIFAR-10 Batch 2:  Loss:     1.6923 Validation Accuracy: 0.372400\n",
      "Epoch  4, CIFAR-10 Batch 3:  Loss:     1.4690 Validation Accuracy: 0.378600\n",
      "Epoch  4, CIFAR-10 Batch 4:  Loss:     1.5995 Validation Accuracy: 0.377400\n",
      "Epoch  4, CIFAR-10 Batch 5:  Loss:     1.7022 Validation Accuracy: 0.394800\n",
      "Epoch  5, CIFAR-10 Batch 1:  Loss:     1.7364 Validation Accuracy: 0.410400\n",
      "Epoch  5, CIFAR-10 Batch 2:  Loss:     1.6210 Validation Accuracy: 0.406200\n",
      "Epoch  5, CIFAR-10 Batch 3:  Loss:     1.3690 Validation Accuracy: 0.411000\n",
      "Epoch  5, CIFAR-10 Batch 4:  Loss:     1.5855 Validation Accuracy: 0.399200\n",
      "Epoch  5, CIFAR-10 Batch 5:  Loss:     1.6907 Validation Accuracy: 0.408800\n",
      "Epoch  6, CIFAR-10 Batch 1:  Loss:     1.7050 Validation Accuracy: 0.423600\n",
      "Epoch  6, CIFAR-10 Batch 2:  Loss:     1.6039 Validation Accuracy: 0.413000\n",
      "Epoch  6, CIFAR-10 Batch 3:  Loss:     1.3380 Validation Accuracy: 0.413000\n",
      "Epoch  6, CIFAR-10 Batch 4:  Loss:     1.5035 Validation Accuracy: 0.411200\n",
      "Epoch  6, CIFAR-10 Batch 5:  Loss:     1.6357 Validation Accuracy: 0.418000\n",
      "Epoch  7, CIFAR-10 Batch 1:  Loss:     1.6194 Validation Accuracy: 0.419600\n",
      "Epoch  7, CIFAR-10 Batch 2:  Loss:     1.5046 Validation Accuracy: 0.429600\n",
      "Epoch  7, CIFAR-10 Batch 3:  Loss:     1.2274 Validation Accuracy: 0.431200\n",
      "Epoch  7, CIFAR-10 Batch 4:  Loss:     1.4428 Validation Accuracy: 0.438400\n",
      "Epoch  7, CIFAR-10 Batch 5:  Loss:     1.5731 Validation Accuracy: 0.440600\n",
      "Epoch  8, CIFAR-10 Batch 1:  Loss:     1.5610 Validation Accuracy: 0.439200\n",
      "Epoch  8, CIFAR-10 Batch 2:  Loss:     1.4231 Validation Accuracy: 0.427200\n",
      "Epoch  8, CIFAR-10 Batch 3:  Loss:     1.2490 Validation Accuracy: 0.438000\n",
      "Epoch  8, CIFAR-10 Batch 4:  Loss:     1.4416 Validation Accuracy: 0.439000\n",
      "Epoch  8, CIFAR-10 Batch 5:  Loss:     1.5733 Validation Accuracy: 0.449000\n",
      "Epoch  9, CIFAR-10 Batch 1:  Loss:     1.4805 Validation Accuracy: 0.445400\n",
      "Epoch  9, CIFAR-10 Batch 2:  Loss:     1.3744 Validation Accuracy: 0.447600\n",
      "Epoch  9, CIFAR-10 Batch 3:  Loss:     1.1923 Validation Accuracy: 0.440800\n",
      "Epoch  9, CIFAR-10 Batch 4:  Loss:     1.4004 Validation Accuracy: 0.461600\n",
      "Epoch  9, CIFAR-10 Batch 5:  Loss:     1.5138 Validation Accuracy: 0.444200\n",
      "Epoch 10, CIFAR-10 Batch 1:  Loss:     1.4643 Validation Accuracy: 0.445200\n",
      "Epoch 10, CIFAR-10 Batch 2:  Loss:     1.4128 Validation Accuracy: 0.456800\n",
      "Epoch 10, CIFAR-10 Batch 3:  Loss:     1.2276 Validation Accuracy: 0.433400\n",
      "Epoch 10, CIFAR-10 Batch 4:  Loss:     1.3680 Validation Accuracy: 0.462800\n",
      "Epoch 10, CIFAR-10 Batch 5:  Loss:     1.4441 Validation Accuracy: 0.473200\n",
      "Epoch 11, CIFAR-10 Batch 1:  Loss:     1.4291 Validation Accuracy: 0.462000\n",
      "Epoch 11, CIFAR-10 Batch 2:  Loss:     1.3463 Validation Accuracy: 0.463200\n",
      "Epoch 11, CIFAR-10 Batch 3:  Loss:     1.1166 Validation Accuracy: 0.468400\n",
      "Epoch 11, CIFAR-10 Batch 4:  Loss:     1.3273 Validation Accuracy: 0.475000\n",
      "Epoch 11, CIFAR-10 Batch 5:  Loss:     1.3485 Validation Accuracy: 0.482200\n",
      "Epoch 12, CIFAR-10 Batch 1:  Loss:     1.4124 Validation Accuracy: 0.472800\n",
      "Epoch 12, CIFAR-10 Batch 2:  Loss:     1.3371 Validation Accuracy: 0.466800\n",
      "Epoch 12, CIFAR-10 Batch 3:  Loss:     1.1448 Validation Accuracy: 0.474200\n",
      "Epoch 12, CIFAR-10 Batch 4:  Loss:     1.2937 Validation Accuracy: 0.487600\n",
      "Epoch 12, CIFAR-10 Batch 5:  Loss:     1.3249 Validation Accuracy: 0.479800\n",
      "Epoch 13, CIFAR-10 Batch 1:  Loss:     1.3788 Validation Accuracy: 0.482200\n",
      "Epoch 13, CIFAR-10 Batch 2:  Loss:     1.2795 Validation Accuracy: 0.477800\n",
      "Epoch 13, CIFAR-10 Batch 3:  Loss:     1.0658 Validation Accuracy: 0.477800\n",
      "Epoch 13, CIFAR-10 Batch 4:  Loss:     1.2538 Validation Accuracy: 0.492400\n",
      "Epoch 13, CIFAR-10 Batch 5:  Loss:     1.3376 Validation Accuracy: 0.492400\n",
      "Epoch 14, CIFAR-10 Batch 1:  Loss:     1.3440 Validation Accuracy: 0.484600\n",
      "Epoch 14, CIFAR-10 Batch 2:  Loss:     1.2053 Validation Accuracy: 0.477400\n",
      "Epoch 14, CIFAR-10 Batch 3:  Loss:     1.0528 Validation Accuracy: 0.491000\n",
      "Epoch 14, CIFAR-10 Batch 4:  Loss:     1.2087 Validation Accuracy: 0.492000\n",
      "Epoch 14, CIFAR-10 Batch 5:  Loss:     1.3115 Validation Accuracy: 0.497200\n",
      "Epoch 15, CIFAR-10 Batch 1:  Loss:     1.3232 Validation Accuracy: 0.493800\n",
      "Epoch 15, CIFAR-10 Batch 2:  Loss:     1.1747 Validation Accuracy: 0.488000\n",
      "Epoch 15, CIFAR-10 Batch 3:  Loss:     1.0149 Validation Accuracy: 0.496600\n",
      "Epoch 15, CIFAR-10 Batch 4:  Loss:     1.1991 Validation Accuracy: 0.498600\n",
      "Epoch 15, CIFAR-10 Batch 5:  Loss:     1.3031 Validation Accuracy: 0.494600\n",
      "Epoch 16, CIFAR-10 Batch 1:  Loss:     1.3147 Validation Accuracy: 0.506800\n",
      "Epoch 16, CIFAR-10 Batch 2:  Loss:     1.1597 Validation Accuracy: 0.493800\n",
      "Epoch 16, CIFAR-10 Batch 3:  Loss:     0.9684 Validation Accuracy: 0.500400\n",
      "Epoch 16, CIFAR-10 Batch 4:  Loss:     1.1674 Validation Accuracy: 0.503400\n",
      "Epoch 16, CIFAR-10 Batch 5:  Loss:     1.3056 Validation Accuracy: 0.505600\n",
      "Epoch 17, CIFAR-10 Batch 1:  Loss:     1.3189 Validation Accuracy: 0.512600\n",
      "Epoch 17, CIFAR-10 Batch 2:  Loss:     1.1393 Validation Accuracy: 0.500400\n",
      "Epoch 17, CIFAR-10 Batch 3:  Loss:     1.0216 Validation Accuracy: 0.493800\n",
      "Epoch 17, CIFAR-10 Batch 4:  Loss:     1.1307 Validation Accuracy: 0.508400\n",
      "Epoch 17, CIFAR-10 Batch 5:  Loss:     1.2359 Validation Accuracy: 0.516000\n",
      "Epoch 18, CIFAR-10 Batch 1:  Loss:     1.2721 Validation Accuracy: 0.519400\n",
      "Epoch 18, CIFAR-10 Batch 2:  Loss:     1.1140 Validation Accuracy: 0.506800\n",
      "Epoch 18, CIFAR-10 Batch 3:  Loss:     0.9577 Validation Accuracy: 0.510000\n",
      "Epoch 18, CIFAR-10 Batch 4:  Loss:     1.1409 Validation Accuracy: 0.513800\n",
      "Epoch 18, CIFAR-10 Batch 5:  Loss:     1.2129 Validation Accuracy: 0.512400\n",
      "Epoch 19, CIFAR-10 Batch 1:  Loss:     1.2372 Validation Accuracy: 0.514800\n",
      "Epoch 19, CIFAR-10 Batch 2:  Loss:     1.0870 Validation Accuracy: 0.500600\n",
      "Epoch 19, CIFAR-10 Batch 3:  Loss:     0.9511 Validation Accuracy: 0.503400\n",
      "Epoch 19, CIFAR-10 Batch 4:  Loss:     1.1115 Validation Accuracy: 0.517200\n",
      "Epoch 19, CIFAR-10 Batch 5:  Loss:     1.2411 Validation Accuracy: 0.520000\n",
      "Epoch 20, CIFAR-10 Batch 1:  Loss:     1.2028 Validation Accuracy: 0.513400\n",
      "Epoch 20, CIFAR-10 Batch 2:  Loss:     1.0644 Validation Accuracy: 0.510800\n",
      "Epoch 20, CIFAR-10 Batch 3:  Loss:     0.9225 Validation Accuracy: 0.511800\n",
      "Epoch 20, CIFAR-10 Batch 4:  Loss:     1.0715 Validation Accuracy: 0.522600\n",
      "Epoch 20, CIFAR-10 Batch 5:  Loss:     1.2169 Validation Accuracy: 0.526600\n",
      "Epoch 21, CIFAR-10 Batch 1:  Loss:     1.1724 Validation Accuracy: 0.518400\n",
      "Epoch 21, CIFAR-10 Batch 2:  Loss:     1.0108 Validation Accuracy: 0.510600\n",
      "Epoch 21, CIFAR-10 Batch 3:  Loss:     0.8968 Validation Accuracy: 0.517800\n",
      "Epoch 21, CIFAR-10 Batch 4:  Loss:     1.0399 Validation Accuracy: 0.527400\n",
      "Epoch 21, CIFAR-10 Batch 5:  Loss:     1.1737 Validation Accuracy: 0.521000\n",
      "Epoch 22, CIFAR-10 Batch 1:  Loss:     1.1438 Validation Accuracy: 0.520600\n",
      "Epoch 22, CIFAR-10 Batch 2:  Loss:     1.0453 Validation Accuracy: 0.518200\n",
      "Epoch 22, CIFAR-10 Batch 3:  Loss:     0.8616 Validation Accuracy: 0.533600\n",
      "Epoch 22, CIFAR-10 Batch 4:  Loss:     1.0050 Validation Accuracy: 0.528400\n",
      "Epoch 22, CIFAR-10 Batch 5:  Loss:     1.1206 Validation Accuracy: 0.530200\n",
      "Epoch 23, CIFAR-10 Batch 1:  Loss:     1.1048 Validation Accuracy: 0.537200\n",
      "Epoch 23, CIFAR-10 Batch 2:  Loss:     1.0241 Validation Accuracy: 0.524000\n",
      "Epoch 23, CIFAR-10 Batch 3:  Loss:     0.8816 Validation Accuracy: 0.521400\n",
      "Epoch 23, CIFAR-10 Batch 4:  Loss:     0.9847 Validation Accuracy: 0.526800\n",
      "Epoch 23, CIFAR-10 Batch 5:  Loss:     1.1197 Validation Accuracy: 0.541200\n",
      "Epoch 24, CIFAR-10 Batch 1:  Loss:     1.1031 Validation Accuracy: 0.530200\n",
      "Epoch 24, CIFAR-10 Batch 2:  Loss:     0.9862 Validation Accuracy: 0.523000\n",
      "Epoch 24, CIFAR-10 Batch 3:  Loss:     0.8654 Validation Accuracy: 0.528400\n",
      "Epoch 24, CIFAR-10 Batch 4:  Loss:     0.9591 Validation Accuracy: 0.536200\n",
      "Epoch 24, CIFAR-10 Batch 5:  Loss:     1.1023 Validation Accuracy: 0.534400\n",
      "Epoch 25, CIFAR-10 Batch 1:  Loss:     1.0622 Validation Accuracy: 0.534400\n",
      "Epoch 25, CIFAR-10 Batch 2:  Loss:     0.9814 Validation Accuracy: 0.524800\n",
      "Epoch 25, CIFAR-10 Batch 3:  Loss:     0.8492 Validation Accuracy: 0.527800\n",
      "Epoch 25, CIFAR-10 Batch 4:  Loss:     0.9485 Validation Accuracy: 0.536000\n",
      "Epoch 25, CIFAR-10 Batch 5:  Loss:     1.0846 Validation Accuracy: 0.539000\n",
      "Epoch 26, CIFAR-10 Batch 1:  Loss:     1.0830 Validation Accuracy: 0.534800\n",
      "Epoch 26, CIFAR-10 Batch 2:  Loss:     0.9475 Validation Accuracy: 0.526000\n",
      "Epoch 26, CIFAR-10 Batch 3:  Loss:     0.8305 Validation Accuracy: 0.540200\n",
      "Epoch 26, CIFAR-10 Batch 4:  Loss:     0.9405 Validation Accuracy: 0.545400\n",
      "Epoch 26, CIFAR-10 Batch 5:  Loss:     1.0831 Validation Accuracy: 0.534200\n",
      "Epoch 27, CIFAR-10 Batch 1:  Loss:     1.0304 Validation Accuracy: 0.542400\n",
      "Epoch 27, CIFAR-10 Batch 2:  Loss:     0.9470 Validation Accuracy: 0.540600\n",
      "Epoch 27, CIFAR-10 Batch 3:  Loss:     0.8530 Validation Accuracy: 0.550600\n",
      "Epoch 27, CIFAR-10 Batch 4:  Loss:     0.9255 Validation Accuracy: 0.551800\n",
      "Epoch 27, CIFAR-10 Batch 5:  Loss:     1.0291 Validation Accuracy: 0.536200\n",
      "Epoch 28, CIFAR-10 Batch 1:  Loss:     1.0333 Validation Accuracy: 0.549400\n",
      "Epoch 28, CIFAR-10 Batch 2:  Loss:     0.8950 Validation Accuracy: 0.538400\n",
      "Epoch 28, CIFAR-10 Batch 3:  Loss:     0.8187 Validation Accuracy: 0.546400\n",
      "Epoch 28, CIFAR-10 Batch 4:  Loss:     0.8750 Validation Accuracy: 0.550000\n",
      "Epoch 28, CIFAR-10 Batch 5:  Loss:     1.0486 Validation Accuracy: 0.537000\n",
      "Epoch 29, CIFAR-10 Batch 1:  Loss:     1.0289 Validation Accuracy: 0.548200\n",
      "Epoch 29, CIFAR-10 Batch 2:  Loss:     0.9093 Validation Accuracy: 0.532200\n",
      "Epoch 29, CIFAR-10 Batch 3:  Loss:     0.7620 Validation Accuracy: 0.542800\n",
      "Epoch 29, CIFAR-10 Batch 4:  Loss:     0.8552 Validation Accuracy: 0.551000\n",
      "Epoch 29, CIFAR-10 Batch 5:  Loss:     1.0188 Validation Accuracy: 0.551600\n",
      "Epoch 30, CIFAR-10 Batch 1:  Loss:     0.9471 Validation Accuracy: 0.545200\n",
      "Epoch 30, CIFAR-10 Batch 2:  Loss:     0.8880 Validation Accuracy: 0.539000\n",
      "Epoch 30, CIFAR-10 Batch 3:  Loss:     0.8000 Validation Accuracy: 0.545000\n",
      "Epoch 30, CIFAR-10 Batch 4:  Loss:     0.8306 Validation Accuracy: 0.550600\n",
      "Epoch 30, CIFAR-10 Batch 5:  Loss:     0.9754 Validation Accuracy: 0.558000\n",
      "Epoch 31, CIFAR-10 Batch 1:  Loss:     0.9296 Validation Accuracy: 0.543800\n",
      "Epoch 31, CIFAR-10 Batch 2:  Loss:     0.8661 Validation Accuracy: 0.544800\n",
      "Epoch 31, CIFAR-10 Batch 3:  Loss:     0.8050 Validation Accuracy: 0.551600\n",
      "Epoch 31, CIFAR-10 Batch 4:  Loss:     0.8347 Validation Accuracy: 0.556200\n",
      "Epoch 31, CIFAR-10 Batch 5:  Loss:     0.9522 Validation Accuracy: 0.552000\n",
      "Epoch 32, CIFAR-10 Batch 1:  Loss:     0.9055 Validation Accuracy: 0.548400\n",
      "Epoch 32, CIFAR-10 Batch 2:  Loss:     0.8720 Validation Accuracy: 0.546000\n",
      "Epoch 32, CIFAR-10 Batch 3:  Loss:     0.7920 Validation Accuracy: 0.551000\n",
      "Epoch 32, CIFAR-10 Batch 4:  Loss:     0.7971 Validation Accuracy: 0.558600\n",
      "Epoch 32, CIFAR-10 Batch 5:  Loss:     0.9632 Validation Accuracy: 0.552600\n",
      "Epoch 33, CIFAR-10 Batch 1:  Loss:     0.8476 Validation Accuracy: 0.549800\n",
      "Epoch 33, CIFAR-10 Batch 2:  Loss:     0.8207 Validation Accuracy: 0.543800\n",
      "Epoch 33, CIFAR-10 Batch 3:  Loss:     0.7890 Validation Accuracy: 0.553600\n",
      "Epoch 33, CIFAR-10 Batch 4:  Loss:     0.8277 Validation Accuracy: 0.555800\n",
      "Epoch 33, CIFAR-10 Batch 5:  Loss:     0.9373 Validation Accuracy: 0.551400\n",
      "Epoch 34, CIFAR-10 Batch 1:  Loss:     0.8465 Validation Accuracy: 0.554400\n",
      "Epoch 34, CIFAR-10 Batch 2:  Loss:     0.8336 Validation Accuracy: 0.546400\n",
      "Epoch 34, CIFAR-10 Batch 3:  Loss:     0.7305 Validation Accuracy: 0.558200\n",
      "Epoch 34, CIFAR-10 Batch 4:  Loss:     0.7733 Validation Accuracy: 0.560000\n",
      "Epoch 34, CIFAR-10 Batch 5:  Loss:     0.9183 Validation Accuracy: 0.563800\n",
      "Epoch 35, CIFAR-10 Batch 1:  Loss:     0.8264 Validation Accuracy: 0.553600\n",
      "Epoch 35, CIFAR-10 Batch 2:  Loss:     0.8138 Validation Accuracy: 0.539800\n",
      "Epoch 35, CIFAR-10 Batch 3:  Loss:     0.7632 Validation Accuracy: 0.561200\n",
      "Epoch 35, CIFAR-10 Batch 4:  Loss:     0.7765 Validation Accuracy: 0.561600\n",
      "Epoch 35, CIFAR-10 Batch 5:  Loss:     0.9074 Validation Accuracy: 0.559600\n",
      "Epoch 36, CIFAR-10 Batch 1:  Loss:     0.7983 Validation Accuracy: 0.554600\n",
      "Epoch 36, CIFAR-10 Batch 2:  Loss:     0.7953 Validation Accuracy: 0.549800\n",
      "Epoch 36, CIFAR-10 Batch 3:  Loss:     0.7081 Validation Accuracy: 0.556400\n",
      "Epoch 36, CIFAR-10 Batch 4:  Loss:     0.7963 Validation Accuracy: 0.565400\n",
      "Epoch 36, CIFAR-10 Batch 5:  Loss:     0.8458 Validation Accuracy: 0.559800\n",
      "Epoch 37, CIFAR-10 Batch 1:  Loss:     0.8401 Validation Accuracy: 0.554600\n",
      "Epoch 37, CIFAR-10 Batch 2:  Loss:     0.7982 Validation Accuracy: 0.562000\n",
      "Epoch 37, CIFAR-10 Batch 3:  Loss:     0.7184 Validation Accuracy: 0.557000\n",
      "Epoch 37, CIFAR-10 Batch 4:  Loss:     0.7591 Validation Accuracy: 0.566000\n",
      "Epoch 37, CIFAR-10 Batch 5:  Loss:     0.8541 Validation Accuracy: 0.557200\n",
      "Epoch 38, CIFAR-10 Batch 1:  Loss:     0.8150 Validation Accuracy: 0.557200\n",
      "Epoch 38, CIFAR-10 Batch 2:  Loss:     0.7726 Validation Accuracy: 0.548600\n",
      "Epoch 38, CIFAR-10 Batch 3:  Loss:     0.7261 Validation Accuracy: 0.565600\n",
      "Epoch 38, CIFAR-10 Batch 4:  Loss:     0.7307 Validation Accuracy: 0.566600\n",
      "Epoch 38, CIFAR-10 Batch 5:  Loss:     0.8312 Validation Accuracy: 0.563600\n",
      "Epoch 39, CIFAR-10 Batch 1:  Loss:     0.8011 Validation Accuracy: 0.554000\n",
      "Epoch 39, CIFAR-10 Batch 2:  Loss:     0.7417 Validation Accuracy: 0.554200\n",
      "Epoch 39, CIFAR-10 Batch 3:  Loss:     0.6664 Validation Accuracy: 0.565200\n",
      "Epoch 39, CIFAR-10 Batch 4:  Loss:     0.7474 Validation Accuracy: 0.569600\n",
      "Epoch 39, CIFAR-10 Batch 5:  Loss:     0.8460 Validation Accuracy: 0.558800\n",
      "Epoch 40, CIFAR-10 Batch 1:  Loss:     0.7801 Validation Accuracy: 0.557400\n",
      "Epoch 40, CIFAR-10 Batch 2:  Loss:     0.7424 Validation Accuracy: 0.563000\n",
      "Epoch 40, CIFAR-10 Batch 3:  Loss:     0.7505 Validation Accuracy: 0.555200\n",
      "Epoch 40, CIFAR-10 Batch 4:  Loss:     0.7289 Validation Accuracy: 0.571000\n",
      "Epoch 40, CIFAR-10 Batch 5:  Loss:     0.7984 Validation Accuracy: 0.567800\n",
      "Epoch 41, CIFAR-10 Batch 1:  Loss:     0.7254 Validation Accuracy: 0.551800\n",
      "Epoch 41, CIFAR-10 Batch 2:  Loss:     0.7217 Validation Accuracy: 0.559400\n",
      "Epoch 41, CIFAR-10 Batch 3:  Loss:     0.6769 Validation Accuracy: 0.565400\n",
      "Epoch 41, CIFAR-10 Batch 4:  Loss:     0.6987 Validation Accuracy: 0.568800\n",
      "Epoch 41, CIFAR-10 Batch 5:  Loss:     0.7832 Validation Accuracy: 0.564000\n",
      "Epoch 42, CIFAR-10 Batch 1:  Loss:     0.7342 Validation Accuracy: 0.565400\n",
      "Epoch 42, CIFAR-10 Batch 2:  Loss:     0.7441 Validation Accuracy: 0.554800\n",
      "Epoch 42, CIFAR-10 Batch 3:  Loss:     0.6767 Validation Accuracy: 0.571200\n",
      "Epoch 42, CIFAR-10 Batch 4:  Loss:     0.7233 Validation Accuracy: 0.571200\n",
      "Epoch 42, CIFAR-10 Batch 5:  Loss:     0.7623 Validation Accuracy: 0.564200\n",
      "Epoch 43, CIFAR-10 Batch 1:  Loss:     0.7294 Validation Accuracy: 0.563000\n",
      "Epoch 43, CIFAR-10 Batch 2:  Loss:     0.7217 Validation Accuracy: 0.554600\n",
      "Epoch 43, CIFAR-10 Batch 3:  Loss:     0.6259 Validation Accuracy: 0.569000\n",
      "Epoch 43, CIFAR-10 Batch 4:  Loss:     0.6929 Validation Accuracy: 0.573000\n",
      "Epoch 43, CIFAR-10 Batch 5:  Loss:     0.7549 Validation Accuracy: 0.566800\n",
      "Epoch 44, CIFAR-10 Batch 1:  Loss:     0.7120 Validation Accuracy: 0.562200\n",
      "Epoch 44, CIFAR-10 Batch 2:  Loss:     0.7104 Validation Accuracy: 0.563800\n",
      "Epoch 44, CIFAR-10 Batch 3:  Loss:     0.6489 Validation Accuracy: 0.573200\n",
      "Epoch 44, CIFAR-10 Batch 4:  Loss:     0.7001 Validation Accuracy: 0.580200\n",
      "Epoch 44, CIFAR-10 Batch 5:  Loss:     0.7242 Validation Accuracy: 0.567200\n",
      "Epoch 45, CIFAR-10 Batch 1:  Loss:     0.7069 Validation Accuracy: 0.567200\n",
      "Epoch 45, CIFAR-10 Batch 2:  Loss:     0.7052 Validation Accuracy: 0.555200\n",
      "Epoch 45, CIFAR-10 Batch 3:  Loss:     0.6424 Validation Accuracy: 0.577200\n",
      "Epoch 45, CIFAR-10 Batch 4:  Loss:     0.6805 Validation Accuracy: 0.571400\n",
      "Epoch 45, CIFAR-10 Batch 5:  Loss:     0.7241 Validation Accuracy: 0.574600\n",
      "Epoch 46, CIFAR-10 Batch 1:  Loss:     0.6976 Validation Accuracy: 0.564400\n",
      "Epoch 46, CIFAR-10 Batch 2:  Loss:     0.6926 Validation Accuracy: 0.559000\n",
      "Epoch 46, CIFAR-10 Batch 3:  Loss:     0.6179 Validation Accuracy: 0.579600\n",
      "Epoch 46, CIFAR-10 Batch 4:  Loss:     0.6664 Validation Accuracy: 0.570000\n",
      "Epoch 46, CIFAR-10 Batch 5:  Loss:     0.7056 Validation Accuracy: 0.576400\n",
      "Epoch 47, CIFAR-10 Batch 1:  Loss:     0.7162 Validation Accuracy: 0.566200\n",
      "Epoch 47, CIFAR-10 Batch 2:  Loss:     0.6600 Validation Accuracy: 0.564000\n",
      "Epoch 47, CIFAR-10 Batch 3:  Loss:     0.6907 Validation Accuracy: 0.572600\n",
      "Epoch 47, CIFAR-10 Batch 4:  Loss:     0.6164 Validation Accuracy: 0.578200\n",
      "Epoch 47, CIFAR-10 Batch 5:  Loss:     0.7174 Validation Accuracy: 0.570800\n",
      "Epoch 48, CIFAR-10 Batch 1:  Loss:     0.6958 Validation Accuracy: 0.563000\n",
      "Epoch 48, CIFAR-10 Batch 2:  Loss:     0.6513 Validation Accuracy: 0.570800\n",
      "Epoch 48, CIFAR-10 Batch 3:  Loss:     0.6469 Validation Accuracy: 0.576800\n",
      "Epoch 48, CIFAR-10 Batch 4:  Loss:     0.6092 Validation Accuracy: 0.580000\n",
      "Epoch 48, CIFAR-10 Batch 5:  Loss:     0.6894 Validation Accuracy: 0.577800\n",
      "Epoch 49, CIFAR-10 Batch 1:  Loss:     0.6520 Validation Accuracy: 0.568800\n",
      "Epoch 49, CIFAR-10 Batch 2:  Loss:     0.6478 Validation Accuracy: 0.555400\n",
      "Epoch 49, CIFAR-10 Batch 3:  Loss:     0.6264 Validation Accuracy: 0.579400\n",
      "Epoch 49, CIFAR-10 Batch 4:  Loss:     0.6062 Validation Accuracy: 0.573000\n",
      "Epoch 49, CIFAR-10 Batch 5:  Loss:     0.6865 Validation Accuracy: 0.569000\n",
      "Epoch 50, CIFAR-10 Batch 1:  Loss:     0.6496 Validation Accuracy: 0.562600\n",
      "Epoch 50, CIFAR-10 Batch 2:  Loss:     0.6693 Validation Accuracy: 0.566400\n",
      "Epoch 50, CIFAR-10 Batch 3:  Loss:     0.6478 Validation Accuracy: 0.583800\n",
      "Epoch 50, CIFAR-10 Batch 4:  Loss:     0.6069 Validation Accuracy: 0.573400\n",
      "Epoch 50, CIFAR-10 Batch 5:  Loss:     0.6580 Validation Accuracy: 0.577000\n"
     ]
    }
   ],
   "source": [
    "\"\"\"\n",
    "DON'T MODIFY ANYTHING IN THIS CELL\n",
    "\"\"\"\n",
    "save_model_path = './image_classification'\n",
    "\n",
    "print('Training...')\n",
    "with tf.Session() as sess:\n",
    "    # Initializing the variables\n",
    "    sess.run(tf.global_variables_initializer())\n",
    "    \n",
    "    # Training cycle\n",
    "    for epoch in range(epochs):\n",
    "        # Loop over all batches\n",
    "        n_batches = 5\n",
    "        for batch_i in range(1, n_batches + 1):\n",
    "            for batch_features, batch_labels in helper.load_preprocess_training_batch(batch_i, batch_size):\n",
    "                train_neural_network(sess, optimizer, keep_probability, batch_features, batch_labels)\n",
    "            print('Epoch {:>2}, CIFAR-10 Batch {}:  '.format(epoch + 1, batch_i), end='')\n",
    "            print_stats(sess, batch_features, batch_labels, cost, accuracy)\n",
    "            \n",
    "    # Save Model\n",
    "    saver = tf.train.Saver()\n",
    "    save_path = saver.save(sess, save_model_path)"
   ]
  },
  {
   "cell_type": "markdown",
   "metadata": {
    "deletable": true,
    "editable": true
   },
   "source": [
    "# Checkpoint\n",
    "The model has been saved to disk.\n",
    "## Test Model\n",
    "Test your model against the test dataset.  This will be your final accuracy. You should have an accuracy greater than 50%. If you don't, keep tweaking the model architecture and parameters."
   ]
  },
  {
   "cell_type": "code",
   "execution_count": 19,
   "metadata": {
    "collapsed": false,
    "deletable": true,
    "editable": true
   },
   "outputs": [
    {
     "name": "stdout",
     "output_type": "stream",
     "text": [
      "Testing Accuracy: 0.57333984375\n",
      "\n"
     ]
    },
    {
     "data": {
      "image/png": "[encoded data removed]",
      "text/plain": [
       "<matplotlib.figure.Figure at 0x7f57acdfb6d8>"
      ]
     },
     "metadata": {
      "image/png": {
       "height": 319,
       "width": 355
      }
     },
     "output_type": "display_data"
    }
   ],
   "source": [
    "\"\"\"\n",
    "DON'T MODIFY ANYTHING IN THIS CELL\n",
    "\"\"\"\n",
    "%matplotlib inline\n",
    "%config InlineBackend.figure_format = 'retina'\n",
    "\n",
    "import tensorflow as tf\n",
    "import pickle\n",
    "import helper\n",
    "import random\n",
    "\n",
    "# Set batch size if not already set\n",
    "try:\n",
    "    if batch_size:\n",
    "        pass\n",
    "except NameError:\n",
    "    batch_size = 64\n",
    "\n",
    "save_model_path = './image_classification'\n",
    "n_samples = 4\n",
    "top_n_predictions = 3\n",
    "\n",
    "def test_model():\n",
    "    \"\"\"\n",
    "    Test the saved model against the test dataset\n",
    "    \"\"\"\n",
    "\n",
    "    test_features, test_labels = pickle.load(open('preprocess_test.p', mode='rb'))\n",
    "    loaded_graph = tf.Graph()\n",
    "\n",
    "    with tf.Session(graph=loaded_graph) as sess:\n",
    "        # Load model\n",
    "        loader = tf.train.import_meta_graph(save_model_path + '.meta')\n",
    "        loader.restore(sess, save_model_path)\n",
    "\n",
    "        # Get Tensors from loaded model\n",
    "        loaded_x = loaded_graph.get_tensor_by_name('x:0')\n",
    "        loaded_y = loaded_graph.get_tensor_by_name('y:0')\n",
    "        loaded_keep_prob = loaded_graph.get_tensor_by_name('keep_prob:0')\n",
    "        loaded_logits = loaded_graph.get_tensor_by_name('logits:0')\n",
    "        loaded_acc = loaded_graph.get_tensor_by_name('accuracy:0')\n",
    "        \n",
    "        # Get accuracy in batches for memory limitations\n",
    "        test_batch_acc_total = 0\n",
    "        test_batch_count = 0\n",
    "        \n",
    "        for test_feature_batch, test_label_batch in helper.batch_features_labels(test_features, test_labels, batch_size):\n",
    "            test_batch_acc_total += sess.run(\n",
    "                loaded_acc,\n",
    "                feed_dict={loaded_x: test_feature_batch, loaded_y: test_label_batch, loaded_keep_prob: 1.0})\n",
    "            test_batch_count += 1\n",
    "\n",
    "        print('Testing Accuracy: {}\\n'.format(test_batch_acc_total/test_batch_count))\n",
    "\n",
    "        # Print Random Samples\n",
    "        random_test_features, random_test_labels = tuple(zip(*random.sample(list(zip(test_features, test_labels)), n_samples)))\n",
    "        random_test_predictions = sess.run(\n",
    "            tf.nn.top_k(tf.nn.softmax(loaded_logits), top_n_predictions),\n",
    "            feed_dict={loaded_x: random_test_features, loaded_y: random_test_labels, loaded_keep_prob: 1.0})\n",
    "        helper.display_image_predictions(random_test_features, random_test_labels, random_test_predictions)\n",
    "\n",
    "\n",
    "test_model()"
   ]
  },
  {
   "cell_type": "markdown",
   "metadata": {
    "deletable": true,
    "editable": true
   },
   "source": [
    "## Why 50-80% Accuracy?\n",
    "You might be wondering why you can't get an accuracy any higher. First things first, 50% isn't bad for a simple CNN.  Pure guessing would get you 10% accuracy. However, you might notice people are getting scores [well above 80%](http://rodrigob.github.io/are_we_there_yet/build/classification_datasets_results.html#43494641522d3130).  That's because we haven't taught you all there is to know about neural networks. We still need to cover a few more techniques.\n",
    "## Submitting This Project\n",
    "When submitting this project, make sure to run all the cells before saving the notebook.  Save the notebook file as \"dlnd_image_classification.ipynb\" and save it as a HTML file under \"File\" -> \"Download as\".  Include the \"helper.py\" and \"problem_unittests.py\" files in your submission."
   ]
  }
 ],
 "metadata": {
  "kernelspec": {
   "display_name": "Python 3",
   "language": "python",
   "name": "python3"
  },
  "language_info": {
   "codemirror_mode": {
    "name": "ipython",
    "version": 3
   },
   "file_extension": ".py",
   "mimetype": "text/x-python",
   "name": "python",
   "nbconvert_exporter": "python",
   "pygments_lexer": "ipython3",
   "version": "3.5.3"
  }
 },
 "nbformat": 4,
 "nbformat_minor": 0
}
